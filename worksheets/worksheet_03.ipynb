{
 "cells": [
  {
   "attachments": {},
   "cell_type": "markdown",
   "metadata": {},
   "source": [
    "# Worksheet 03\n",
    "\n",
    "Name:  Chengjie Gu </br>\n",
    "UID: U95777050\n",
    "\n",
    "\n",
    "### Topics\n",
    "\n",
    "- Intro to DS\n",
    "\n",
    "### Linear Algebra Review\n",
    "\n",
    "If you need a linear algebra review, please read through the [following pdf](https://github.com/gallettilance/CS506-Spring2023/raw/main/worksheets/lecture_03_linear_algebra_review.pdf) before next class\n",
    "\n",
    "### Intro to Data Science\n",
    "\n",
    "a) what property must a hypothesis have?"
   ]
  },
  {
   "attachments": {},
   "cell_type": "markdown",
   "metadata": {},
   "source": [
    "The hypothesis must be falsible, which means that through research and experimentations, the property could be proven wrong."
   ]
  },
  {
   "cell_type": "markdown",
   "metadata": {},
   "source": [
    "b) what examples would you have wanted to try?"
   ]
  },
  {
   "attachments": {},
   "cell_type": "markdown",
   "metadata": {},
   "source": [
    "-6 -4 -2 \n",
    "does the rule follows for negative numbers"
   ]
  },
  {
   "cell_type": "markdown",
   "metadata": {},
   "source": [
    "c) Poll 1"
   ]
  },
  {
   "attachments": {},
   "cell_type": "markdown",
   "metadata": {},
   "source": [
    "A"
   ]
  },
  {
   "cell_type": "markdown",
   "metadata": {},
   "source": [
    "d) Given the hypothesis (x, 2x, 3x), for each of the following, determine whether they are positive or negative examples:\n",
    "\n",
    "- (2, 4, 6)\n",
    "- (6, 8 , 10)\n",
    "- (1, 3, 5)"
   ]
  },
  {
   "attachments": {},
   "cell_type": "markdown",
   "metadata": {},
   "source": [
    "A is positive and B,C are negative"
   ]
  },
  {
   "cell_type": "markdown",
   "metadata": {},
   "source": [
    "e) Poll 2"
   ]
  },
  {
   "attachments": {},
   "cell_type": "markdown",
   "metadata": {},
   "source": [
    "C"
   ]
  },
  {
   "attachments": {},
   "cell_type": "markdown",
   "metadata": {},
   "source": [
    "f) Describe steps of a Data Science Workflow"
   ]
  },
  {
   "attachments": {},
   "cell_type": "markdown",
   "metadata": {},
   "source": [
    "Process Data -> Explore Data -> Extract Features -> Create Model\n",
    "When find errors or misses, go back and process again."
   ]
  },
  {
   "attachments": {},
   "cell_type": "markdown",
   "metadata": {},
   "source": [
    "g) Give a real world example for each of the following data types:\n",
    "\n",
    "- record\n",
    "- graph\n",
    "- image\n",
    "- text"
   ]
  },
  {
   "attachments": {},
   "cell_type": "markdown",
   "metadata": {},
   "source": [
    "-Record: personal data in a hospital with his name/age<br />\n",
    "-Graph: A stock price graph showing the change in market price of specific stock<br /> \n",
    "-Image: Google map<br /> \n",
    "-Text: Piece of message on the phone asking Mike to bring a bottle of milk on the way back home"
   ]
  },
  {
   "attachments": {},
   "cell_type": "markdown",
   "metadata": {},
   "source": [
    "h) Give a real world example of unsupervised learning"
   ]
  },
  {
   "attachments": {},
   "cell_type": "markdown",
   "metadata": {},
   "source": [
    "An example of unsupervised learning in the real world is market segmentation. Companies often use unsupervised learning algorithms to segment their customers into different groups based on their purchasing patterns. The algorithm will cluster customers with similar behavior patterns together without being given any labeled data on what these patterns represent. This information can then be used to tailor marketing campaigns and improve customer satisfaction by offering personalized promotions and recommendations."
   ]
  },
  {
   "attachments": {},
   "cell_type": "markdown",
   "metadata": {},
   "source": [
    "i) Give a real world example of supervised learning"
   ]
  },
  {
   "attachments": {},
   "cell_type": "markdown",
   "metadata": {},
   "source": [
    "An example of supervised learning in the real world is image classification in self-driving cars. A self-driving car uses a supervised learning algorithm to classify and identify objects in the road such as vehicles, pedestrians, and traffic signs. The algorithm is trained on a large dataset of labeled images, where each image is annotated with the type of object present in it. The algorithm uses this labeled data to learn how to make predictions on new, unseen images, allowing the car to make decisions about how to safely navigate the road."
   ]
  },
  {
   "cell_type": "code",
   "execution_count": 3,
   "metadata": {},
   "outputs": [],
   "source": [
    "board = [\n",
    "    [8, 0, 0, 8, 0, 0, 4, 0, 3],\n",
    "    [2, 0, 0, 0, 0, 4, 8, 9, 0],\n",
    "    [0, 9, 0, 0, 0, 0, 0, 0, 2],\n",
    "    [0, 0, 0, 0, 2, 9, 0, 1, 0],\n",
    "    [0, 0, 0, 0, 0, 0, 0, 0, 0],\n",
    "    [0, 7, 0, 6, 5, 0, 0, 0, 0],\n",
    "    [9, 0, 0, 0, 0, 0, 0, 8, 0],\n",
    "    [0, 6, 2, 7, 0, 0, 0, 0, 1],\n",
    "    [4, 0, 3, 0, 0, 6, 0, 0, 0]\n",
    "]\n",
    "\n",
    "def printBoard(board):\n",
    "    for i in range(0, 9):\n",
    "        for j in range(0, 9):\n",
    "            print(board[i][j], end=\" \")\n",
    "        print()\n",
    "\n",
    "def isPossible(board, row, col, val):\n",
    "    for j in range(0, 9):\n",
    "        if board[row][j] == val:\n",
    "            return False\n",
    "\n",
    "    for i in range(0, 9):\n",
    "        if board[i][col] == val:\n",
    "            return False\n",
    "\n",
    "    startRow = (row // 3) * 3\n",
    "    startCol = (col // 3) * 3\n",
    "    for i in range(0, 3):\n",
    "        for j in range(0, 3):\n",
    "            if board[startRow+i][startCol+j] == val:\n",
    "                return False\n",
    "    return True\n",
    "\n",
    "def solve():\n",
    "    for i in range(0, 9):\n",
    "        for j in range(0, 9):\n",
    "            if board[i][j] == 0:\n",
    "                for val in range(1, 10):\n",
    "                    if isPossible(board, i, j, val):\n",
    "                        board[i][j] = val\n",
    "                        solve()\n",
    "\n",
    "                        # Bad choice, make it blank and check again\n",
    "                        board[i][j] = 0\n",
    "                return\n",
    "    # We found a solution, print it            \n",
    "    printBoard(board)\n",
    "\n",
    "solve()"
   ]
  }
 ],
 "metadata": {
  "kernelspec": {
   "display_name": "base",
   "language": "python",
   "name": "python3"
  },
  "language_info": {
   "codemirror_mode": {
    "name": "ipython",
    "version": 3
   },
   "file_extension": ".py",
   "mimetype": "text/x-python",
   "name": "python",
   "nbconvert_exporter": "python",
   "pygments_lexer": "ipython3",
   "version": "3.9.13 (main, Aug 25 2022, 23:51:50) [MSC v.1916 64 bit (AMD64)]"
  },
  "orig_nbformat": 4,
  "vscode": {
   "interpreter": {
    "hash": "85ce11de4cf3f78281ab07af372564ba0ab85f3ba5c26e9a2f2217fdd7970d70"
   }
  }
 },
 "nbformat": 4,
 "nbformat_minor": 2
}
